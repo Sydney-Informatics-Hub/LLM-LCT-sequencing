{
 "cells": [
  {
   "cell_type": "code",
   "execution_count": null,
   "id": "fb7a395f-0f81-4c0b-8a5b-4f130c475a55",
   "metadata": {
    "is_executing": true
   },
   "outputs": [],
   "source": [
    "from annotation.Annotation import Annotation\n",
    "\n",
    "# Loading example data\n",
    "TEXT_DB: str = \"annotation/model/database/dummy_data/dummy_text.txt\"\n",
    "CLAUSE_DB: str = \"annotation/model/database/dummy_data/dummy_clauses.csv\"\n",
    "SEQUENCE_DB: str = \"annotation/model/database/dummy_data/dummy_sequences.csv\"\n",
    "LOG_FILE: str = \"./log.txt\"\n",
    "annotation: Annotation = Annotation(TEXT_DB, CLAUSE_DB, SEQUENCE_DB, LOG_FILE)\n",
    "annotation.run()"
   ]
  }
 ],
 "metadata": {
  "kernelspec": {
   "display_name": "Python 3 (ipykernel)",
   "language": "python",
   "name": "python3"
  },
  "language_info": {
   "codemirror_mode": {
    "name": "ipython",
    "version": 3
   },
   "file_extension": ".py",
   "mimetype": "text/x-python",
   "name": "python",
   "nbconvert_exporter": "python",
   "pygments_lexer": "ipython3",
   "version": "3.10.0"
  }
 },
 "nbformat": 4,
 "nbformat_minor": 5
}
