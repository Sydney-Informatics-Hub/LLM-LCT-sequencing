{
 "cells": [
  {
   "cell_type": "code",
   "execution_count": null,
   "id": "b18b28cd-4f66-4bf4-aa41-7ab852342016",
   "metadata": {
    "collapsed": false
   },
   "outputs": [],
   "source": [
    "from annotation.Annotation import Annotation\n",
    "import panel as pn\n",
    "pn.extension()\n",
    "annotation: Annotation = Annotation()\n",
    "annotation.run()"
   ]
  }
 ],
 "metadata": {
  "kernelspec": {
   "display_name": "Python 3 (ipykernel)",
   "language": "python",
   "name": "python3"
  },
  "language_info": {
   "codemirror_mode": {
    "name": "ipython",
    "version": 3
   },
   "file_extension": ".py",
   "mimetype": "text/x-python",
   "name": "python",
   "nbconvert_exporter": "python",
   "pygments_lexer": "ipython3",
   "version": "3.10.0"
  }
 },
 "nbformat": 4,
 "nbformat_minor": 5
}
